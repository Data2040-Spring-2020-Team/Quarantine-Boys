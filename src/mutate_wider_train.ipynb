{
 "cells": [
  {
   "cell_type": "code",
   "execution_count": 1,
   "metadata": {},
   "outputs": [],
   "source": [
    "import random\n",
    "\n",
    "original_file_path = 'Copy of wider_face_train.txt'\n",
    "des_file = \"mutated_train.txt\"\n",
    "maximum_faces = 5\n",
    "random_seed = 2040\n"
   ]
  },
  {
   "cell_type": "code",
   "execution_count": 3,
   "metadata": {},
   "outputs": [],
   "source": [
    "random.seed(random_seed)\n",
    "temp = []\n",
    "for line in open(original_file_path):\n",
    "    l = line.strip().split()\n",
    "    if (len(l)-1)/4 <=maximum_faces:\n",
    "        temp.append(l)\n",
    "result = random.sample(temp, 1000)\n",
    "\n",
    "f = open(des_file, \"w\")\n",
    "for line in result:\n",
    "    line = ' '.join(line) + \" \\n\"\n",
    "    f.write(line)\n",
    "f.close()"
   ]
  },
  {
   "cell_type": "code",
   "execution_count": 4,
   "metadata": {},
   "outputs": [
    {
     "data": {
      "text/plain": [
       "['5--Car_Accident/5_Car_Accident_Accident_5_676',\n",
       " '162.00',\n",
       " '70.00',\n",
       " '368.00',\n",
       " '386.00']"
      ]
     },
     "execution_count": 4,
     "metadata": {},
     "output_type": "execute_result"
    }
   ],
   "source": [
    "result[264]"
   ]
  },
  {
   "cell_type": "code",
   "execution_count": null,
   "metadata": {},
   "outputs": [],
   "source": []
  }
 ],
 "metadata": {
  "kernelspec": {
   "display_name": "Python 3",
   "language": "python",
   "name": "python3"
  },
  "language_info": {
   "codemirror_mode": {
    "name": "ipython",
    "version": 3
   },
   "file_extension": ".py",
   "mimetype": "text/x-python",
   "name": "python",
   "nbconvert_exporter": "python",
   "pygments_lexer": "ipython3",
   "version": "3.7.6"
  }
 },
 "nbformat": 4,
 "nbformat_minor": 4
}
