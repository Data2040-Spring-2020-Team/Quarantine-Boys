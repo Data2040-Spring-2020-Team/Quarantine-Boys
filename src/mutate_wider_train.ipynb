{
  "cells": [
    {
      "cell_type": "code",
      "source": [
        "import random\n",
        "\n",
        "original_file_path = 'Copy of wider_face_train.txt'\n",
        "des_file = \"mutated_train.txt\"\n",
        "maximum_faces = 5\n",
        "random_seed = 2040\n"
      ],
      "outputs": [],
      "execution_count": 6,
      "metadata": {
        "execution": {
          "shell.execute_reply": "2020-05-14T02:33:33.490Z",
          "iopub.status.busy": "2020-05-14T02:33:33.480Z",
          "iopub.execute_input": "2020-05-14T02:33:33.484Z",
          "iopub.status.idle": "2020-05-14T02:33:33.488Z"
        }
      }
    },
    {
      "cell_type": "code",
      "source": [
        "random.seed(random_seed)\n",
        "temp = []\n",
        "for line in open(original_file_path):\n",
        "    l = line.strip().split()\n",
        "    if (len(l)-1)/4 <=maximum_faces:\n",
        "        temp.append(l)\n",
        "result = random.sample(temp, 1000)\n",
        "\n",
        "f = open(des_file, \"w\")\n",
        "for line in result:\n",
        "    line = ' '.join(line) + \" \\n\"\n",
        "    f.write(line)\n",
        "f.close()"
      ],
      "outputs": [],
      "execution_count": 7,
      "metadata": {
        "execution": {
          "iopub.status.busy": "2020-05-14T02:33:34.217Z",
          "iopub.execute_input": "2020-05-14T02:33:34.224Z",
          "iopub.status.idle": "2020-05-14T02:33:34.281Z",
          "shell.execute_reply": "2020-05-14T02:33:34.286Z"
        }
      }
    },
    {
      "cell_type": "code",
      "source": [
        "result[922]"
      ],
      "outputs": [
        {
          "output_type": "execute_result",
          "execution_count": 9,
          "data": {
            "text/plain": [
              "['35--Basketball/35_Basketball_playingbasketball_35_535',\n",
              " '390.00',\n",
              " '126.00',\n",
              " '556.00',\n",
              " '340.00']"
            ]
          },
          "metadata": {}
        }
      ],
      "execution_count": 9,
      "metadata": {
        "execution": {
          "iopub.status.busy": "2020-05-14T02:34:29.870Z",
          "iopub.execute_input": "2020-05-14T02:34:29.872Z",
          "iopub.status.idle": "2020-05-14T02:34:29.878Z",
          "shell.execute_reply": "2020-05-14T02:34:29.881Z"
        }
      }
    },
    {
      "cell_type": "code",
      "source": [],
      "outputs": [],
      "execution_count": null,
      "metadata": {}
    }
  ],
  "metadata": {
    "kernelspec": {
      "display_name": "Python 3",
      "language": "python",
      "name": "python3"
    },
    "language_info": {
      "name": "python",
      "version": "3.7.3",
      "mimetype": "text/x-python",
      "codemirror_mode": {
        "name": "ipython",
        "version": 3
      },
      "pygments_lexer": "ipython3",
      "nbconvert_exporter": "python",
      "file_extension": ".py"
    },
    "nteract": {
      "version": "0.22.4"
    }
  },
  "nbformat": 4,
  "nbformat_minor": 4
}